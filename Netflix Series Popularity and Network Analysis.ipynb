{
 "cells": [
  {
   "cell_type": "markdown",
   "metadata": {
    "toc": true
   },
   "source": [
    "<h1>Table of Contents<span class=\"tocSkip\"></span></h1>\n",
    "<div class=\"toc\"><ul class=\"toc-item\"><li><span><a href=\"#Netflix-Series-Genre-Popularity-Analysis-by-US-Regions\" data-toc-modified-id=\"Netflix-Series-Genre-Popularity-Analysis-by-US-Regions-1\"><span class=\"toc-item-num\">1&nbsp;&nbsp;</span>Netflix Series Genre Popularity Analysis by US Regions</a></span></li><li><span><a href=\"#Sentiment-Analysis\" data-toc-modified-id=\"Sentiment-Analysis-2\"><span class=\"toc-item-num\">2&nbsp;&nbsp;</span>Sentiment Analysis</a></span></li><li><span><a href=\"#Network-Analysis\" data-toc-modified-id=\"Network-Analysis-3\"><span class=\"toc-item-num\">3&nbsp;&nbsp;</span>Network Analysis</a></span><ul class=\"toc-item\"><li><span><a href=\"#Glow-Series\" data-toc-modified-id=\"Glow-Series-3.1\"><span class=\"toc-item-num\">3.1&nbsp;&nbsp;</span>Glow Series</a></span></li><li><span><a href=\"#Wild-Wild-Country-Series\" data-toc-modified-id=\"Wild-Wild-Country-Series-3.2\"><span class=\"toc-item-num\">3.2&nbsp;&nbsp;</span>Wild Wild Country Series</a></span></li><li><span><a href=\"#The-Waking-Dead-Series\" data-toc-modified-id=\"The-Waking-Dead-Series-3.3\"><span class=\"toc-item-num\">3.3&nbsp;&nbsp;</span>The Waking Dead Series</a></span></li><li><span><a href=\"#Stranger-Things-Series\" data-toc-modified-id=\"Stranger-Things-Series-3.4\"><span class=\"toc-item-num\">3.4&nbsp;&nbsp;</span>Stranger Things Series</a></span></li></ul></li></ul></div>"
   ]
  },
  {
   "cell_type": "markdown",
   "metadata": {},
   "source": [
    "### Netflix Series Genre Popularity Analysis by US Regions"
   ]
  },
  {
   "cell_type": "markdown",
   "metadata": {},
   "source": [
    "Our approach is to retrieve the tweets, pre-process it to remove non significant characters or strings, normalize the effect of query term, calculate the mean polarity for each series by region using ‘affin’ and build the network of users with retweets using tweepy API and generate network graphs using Gephi. "
   ]
  },
  {
   "cell_type": "markdown",
   "metadata": {},
   "source": [
    "### Sentiment Analysis"
   ]
  },
  {
   "cell_type": "markdown",
   "metadata": {},
   "source": [
    "Load required libraries"
   ]
  },
  {
   "cell_type": "code",
   "execution_count": 8,
   "metadata": {
    "collapsed": true
   },
   "outputs": [],
   "source": [
    "import csv\n",
    "import pandas as pd"
   ]
  },
  {
   "cell_type": "markdown",
   "metadata": {},
   "source": [
    "Use Afinn method to calculate Polarity scores for each Tweet texts"
   ]
  },
  {
   "cell_type": "code",
   "execution_count": 9,
   "metadata": {
    "collapsed": true
   },
   "outputs": [],
   "source": [
    "from afinn import Afinn\n",
    "afinn = Afinn()"
   ]
  },
  {
   "cell_type": "markdown",
   "metadata": {},
   "source": [
    "Load all retrieved tweets from \"netflixtweet_in.csv\" into a dataframe"
   ]
  },
  {
   "cell_type": "code",
   "execution_count": 10,
   "metadata": {},
   "outputs": [
    {
     "data": {
      "text/html": [
       "<div>\n",
       "<style>\n",
       "    .dataframe thead tr:only-child th {\n",
       "        text-align: right;\n",
       "    }\n",
       "\n",
       "    .dataframe thead th {\n",
       "        text-align: left;\n",
       "    }\n",
       "\n",
       "    .dataframe tbody tr th {\n",
       "        vertical-align: top;\n",
       "    }\n",
       "</style>\n",
       "<table border=\"1\" class=\"dataframe\">\n",
       "  <thead>\n",
       "    <tr style=\"text-align: right;\">\n",
       "      <th></th>\n",
       "      <th>Tweet id</th>\n",
       "      <th>Text</th>\n",
       "      <th>Created_at</th>\n",
       "      <th>Scrn_User_name</th>\n",
       "      <th>User_name</th>\n",
       "      <th>RT_count</th>\n",
       "      <th>FV_count</th>\n",
       "      <th>User_location</th>\n",
       "      <th>Movie_name</th>\n",
       "      <th>Category</th>\n",
       "      <th>Tweeted_at_City</th>\n",
       "      <th>State</th>\n",
       "    </tr>\n",
       "  </thead>\n",
       "  <tbody>\n",
       "    <tr>\n",
       "      <th>0</th>\n",
       "      <td>9.810000e+17</td>\n",
       "      <td>Am i hallucinating or wasn?t the second season...</td>\n",
       "      <td>4/2/2018 2:15</td>\n",
       "      <td>erinn_omalley</td>\n",
       "      <td>ërïn ??</td>\n",
       "      <td>0</td>\n",
       "      <td>0</td>\n",
       "      <td>NaN</td>\n",
       "      <td>13 Reasons Why</td>\n",
       "      <td>Drama</td>\n",
       "      <td>Wisconsin</td>\n",
       "      <td>Wisconsin</td>\n",
       "    </tr>\n",
       "    <tr>\n",
       "      <th>1</th>\n",
       "      <td>9.750000e+17</td>\n",
       "      <td>Don?t know why it?s taken me so long to watch ...</td>\n",
       "      <td>3/16/2018 23:59</td>\n",
       "      <td>TheRealTrissyJ</td>\n",
       "      <td>Tristan</td>\n",
       "      <td>0</td>\n",
       "      <td>3</td>\n",
       "      <td>Mullens, WV</td>\n",
       "      <td>13 Reasons Why</td>\n",
       "      <td>Drama</td>\n",
       "      <td>West Virginia</td>\n",
       "      <td>West Virginia</td>\n",
       "    </tr>\n",
       "    <tr>\n",
       "      <th>2</th>\n",
       "      <td>9.840000e+17</td>\n",
       "      <td>Woah guys. I just watched this new show on Net...</td>\n",
       "      <td>4/10/2018 3:09</td>\n",
       "      <td>jfinley00</td>\n",
       "      <td>Jack Finley</td>\n",
       "      <td>1</td>\n",
       "      <td>13</td>\n",
       "      <td>NaN</td>\n",
       "      <td>13 Reasons Why</td>\n",
       "      <td>Drama</td>\n",
       "      <td>Washington</td>\n",
       "      <td>Washington</td>\n",
       "    </tr>\n",
       "    <tr>\n",
       "      <th>3</th>\n",
       "      <td>9.810000e+17</td>\n",
       "      <td>As if my depression wasn?t bad enough today, I...</td>\n",
       "      <td>4/2/2018 2:40</td>\n",
       "      <td>_lauren_albina</td>\n",
       "      <td>Lor?</td>\n",
       "      <td>0</td>\n",
       "      <td>1</td>\n",
       "      <td>NaN</td>\n",
       "      <td>13 Reasons Why</td>\n",
       "      <td>Drama</td>\n",
       "      <td>Virginia</td>\n",
       "      <td>Virginia</td>\n",
       "    </tr>\n",
       "    <tr>\n",
       "      <th>4</th>\n",
       "      <td>9.840000e+17</td>\n",
       "      <td>i don?t understand what a 2nd season if 13 Rea...</td>\n",
       "      <td>4/11/2018 15:09</td>\n",
       "      <td>slmxtch</td>\n",
       "      <td>Samantha ??</td>\n",
       "      <td>0</td>\n",
       "      <td>8</td>\n",
       "      <td>the room where it happens</td>\n",
       "      <td>13 Reasons Why</td>\n",
       "      <td>Drama</td>\n",
       "      <td>Virginia</td>\n",
       "      <td>Virginia</td>\n",
       "    </tr>\n",
       "  </tbody>\n",
       "</table>\n",
       "</div>"
      ],
      "text/plain": [
       "       Tweet id                                               Text  \\\n",
       "0  9.810000e+17  Am i hallucinating or wasn?t the second season...   \n",
       "1  9.750000e+17  Don?t know why it?s taken me so long to watch ...   \n",
       "2  9.840000e+17  Woah guys. I just watched this new show on Net...   \n",
       "3  9.810000e+17  As if my depression wasn?t bad enough today, I...   \n",
       "4  9.840000e+17  i don?t understand what a 2nd season if 13 Rea...   \n",
       "\n",
       "        Created_at  Scrn_User_name    User_name  RT_count  FV_count  \\\n",
       "0    4/2/2018 2:15   erinn_omalley      ërïn ??         0         0   \n",
       "1  3/16/2018 23:59  TheRealTrissyJ      Tristan         0         3   \n",
       "2   4/10/2018 3:09       jfinley00  Jack Finley         1        13   \n",
       "3    4/2/2018 2:40  _lauren_albina         Lor?         0         1   \n",
       "4  4/11/2018 15:09         slmxtch  Samantha ??         0         8   \n",
       "\n",
       "                User_location      Movie_name Category Tweeted_at_City  \\\n",
       "0                         NaN  13 Reasons Why    Drama       Wisconsin   \n",
       "1                 Mullens, WV  13 Reasons Why    Drama   West Virginia   \n",
       "2                         NaN  13 Reasons Why    Drama      Washington   \n",
       "3                         NaN  13 Reasons Why    Drama        Virginia   \n",
       "4  the room where it happens   13 Reasons Why    Drama        Virginia   \n",
       "\n",
       "           State  \n",
       "0      Wisconsin  \n",
       "1  West Virginia  \n",
       "2     Washington  \n",
       "3       Virginia  \n",
       "4       Virginia  "
      ]
     },
     "execution_count": 10,
     "metadata": {},
     "output_type": "execute_result"
    }
   ],
   "source": [
    "df = pd.read_csv(\"netflixtweet_in.csv\", encoding = \"latin1\")\n",
    "df.head()"
   ]
  },
  {
   "cell_type": "markdown",
   "metadata": {},
   "source": [
    "Data Prep-processing to remove hashtags, mentions, URLs, special char &numbers. HTML encoding & UTF-8 decoding"
   ]
  },
  {
   "cell_type": "code",
   "execution_count": 11,
   "metadata": {
    "collapsed": true
   },
   "outputs": [],
   "source": [
    "from bs4 import BeautifulSoup\n",
    "from nltk.tokenize import WordPunctTokenizer\n",
    "import re"
   ]
  },
  {
   "cell_type": "code",
   "execution_count": 12,
   "metadata": {},
   "outputs": [
    {
     "data": {
      "text/html": [
       "<div>\n",
       "<style>\n",
       "    .dataframe thead tr:only-child th {\n",
       "        text-align: right;\n",
       "    }\n",
       "\n",
       "    .dataframe thead th {\n",
       "        text-align: left;\n",
       "    }\n",
       "\n",
       "    .dataframe tbody tr th {\n",
       "        vertical-align: top;\n",
       "    }\n",
       "</style>\n",
       "<table border=\"1\" class=\"dataframe\">\n",
       "  <thead>\n",
       "    <tr style=\"text-align: right;\">\n",
       "      <th></th>\n",
       "      <th>Tweet id</th>\n",
       "      <th>Text</th>\n",
       "      <th>Created_at</th>\n",
       "      <th>Scrn_User_name</th>\n",
       "      <th>User_name</th>\n",
       "      <th>RT_count</th>\n",
       "      <th>FV_count</th>\n",
       "      <th>User_location</th>\n",
       "      <th>Movie_name</th>\n",
       "      <th>Category</th>\n",
       "      <th>Tweeted_at_City</th>\n",
       "      <th>State</th>\n",
       "      <th>Text_Clean</th>\n",
       "    </tr>\n",
       "  </thead>\n",
       "  <tbody>\n",
       "    <tr>\n",
       "      <th>0</th>\n",
       "      <td>9.810000e+17</td>\n",
       "      <td>Am i hallucinating or wasn?t the second season...</td>\n",
       "      <td>4/2/2018 2:15</td>\n",
       "      <td>erinn_omalley</td>\n",
       "      <td>ërïn ??</td>\n",
       "      <td>0</td>\n",
       "      <td>0</td>\n",
       "      <td>NaN</td>\n",
       "      <td>13 Reasons Why</td>\n",
       "      <td>Drama</td>\n",
       "      <td>Wisconsin</td>\n",
       "      <td>Wisconsin</td>\n",
       "      <td>am i hallucinating or wasn t the second season...</td>\n",
       "    </tr>\n",
       "    <tr>\n",
       "      <th>1</th>\n",
       "      <td>9.750000e+17</td>\n",
       "      <td>Don?t know why it?s taken me so long to watch ...</td>\n",
       "      <td>3/16/2018 23:59</td>\n",
       "      <td>TheRealTrissyJ</td>\n",
       "      <td>Tristan</td>\n",
       "      <td>0</td>\n",
       "      <td>3</td>\n",
       "      <td>Mullens, WV</td>\n",
       "      <td>13 Reasons Why</td>\n",
       "      <td>Drama</td>\n",
       "      <td>West Virginia</td>\n",
       "      <td>West Virginia</td>\n",
       "      <td>don t know why it s taken me so long to watch ...</td>\n",
       "    </tr>\n",
       "    <tr>\n",
       "      <th>2</th>\n",
       "      <td>9.840000e+17</td>\n",
       "      <td>Woah guys. I just watched this new show on Net...</td>\n",
       "      <td>4/10/2018 3:09</td>\n",
       "      <td>jfinley00</td>\n",
       "      <td>Jack Finley</td>\n",
       "      <td>1</td>\n",
       "      <td>13</td>\n",
       "      <td>NaN</td>\n",
       "      <td>13 Reasons Why</td>\n",
       "      <td>Drama</td>\n",
       "      <td>Washington</td>\n",
       "      <td>Washington</td>\n",
       "      <td>woah guys i just watched this new show on netf...</td>\n",
       "    </tr>\n",
       "    <tr>\n",
       "      <th>3</th>\n",
       "      <td>9.810000e+17</td>\n",
       "      <td>As if my depression wasn?t bad enough today, I...</td>\n",
       "      <td>4/2/2018 2:40</td>\n",
       "      <td>_lauren_albina</td>\n",
       "      <td>Lor?</td>\n",
       "      <td>0</td>\n",
       "      <td>1</td>\n",
       "      <td>NaN</td>\n",
       "      <td>13 Reasons Why</td>\n",
       "      <td>Drama</td>\n",
       "      <td>Virginia</td>\n",
       "      <td>Virginia</td>\n",
       "      <td>as if my depression wasn t bad enough today i ...</td>\n",
       "    </tr>\n",
       "    <tr>\n",
       "      <th>4</th>\n",
       "      <td>9.840000e+17</td>\n",
       "      <td>i don?t understand what a 2nd season if 13 Rea...</td>\n",
       "      <td>4/11/2018 15:09</td>\n",
       "      <td>slmxtch</td>\n",
       "      <td>Samantha ??</td>\n",
       "      <td>0</td>\n",
       "      <td>8</td>\n",
       "      <td>the room where it happens</td>\n",
       "      <td>13 Reasons Why</td>\n",
       "      <td>Drama</td>\n",
       "      <td>Virginia</td>\n",
       "      <td>Virginia</td>\n",
       "      <td>i don t understand what a nd season if reasons...</td>\n",
       "    </tr>\n",
       "  </tbody>\n",
       "</table>\n",
       "</div>"
      ],
      "text/plain": [
       "       Tweet id                                               Text  \\\n",
       "0  9.810000e+17  Am i hallucinating or wasn?t the second season...   \n",
       "1  9.750000e+17  Don?t know why it?s taken me so long to watch ...   \n",
       "2  9.840000e+17  Woah guys. I just watched this new show on Net...   \n",
       "3  9.810000e+17  As if my depression wasn?t bad enough today, I...   \n",
       "4  9.840000e+17  i don?t understand what a 2nd season if 13 Rea...   \n",
       "\n",
       "        Created_at  Scrn_User_name    User_name  RT_count  FV_count  \\\n",
       "0    4/2/2018 2:15   erinn_omalley      ërïn ??         0         0   \n",
       "1  3/16/2018 23:59  TheRealTrissyJ      Tristan         0         3   \n",
       "2   4/10/2018 3:09       jfinley00  Jack Finley         1        13   \n",
       "3    4/2/2018 2:40  _lauren_albina         Lor?         0         1   \n",
       "4  4/11/2018 15:09         slmxtch  Samantha ??         0         8   \n",
       "\n",
       "                User_location      Movie_name Category Tweeted_at_City  \\\n",
       "0                         NaN  13 Reasons Why    Drama       Wisconsin   \n",
       "1                 Mullens, WV  13 Reasons Why    Drama   West Virginia   \n",
       "2                         NaN  13 Reasons Why    Drama      Washington   \n",
       "3                         NaN  13 Reasons Why    Drama        Virginia   \n",
       "4  the room where it happens   13 Reasons Why    Drama        Virginia   \n",
       "\n",
       "           State                                         Text_Clean  \n",
       "0      Wisconsin  am i hallucinating or wasn t the second season...  \n",
       "1  West Virginia  don t know why it s taken me so long to watch ...  \n",
       "2     Washington  woah guys i just watched this new show on netf...  \n",
       "3       Virginia  as if my depression wasn t bad enough today i ...  \n",
       "4       Virginia  i don t understand what a nd season if reasons...  "
      ]
     },
     "execution_count": 12,
     "metadata": {},
     "output_type": "execute_result"
    }
   ],
   "source": [
    "tok = WordPunctTokenizer()\n",
    "pat1 = r'@[A-Za-z0-9]+'\n",
    "pat2 = r'https?://[A-Za-z0-9./]+'\n",
    "combined_pat = r'|'.join((pat1, pat2))\n",
    "def tweet_cleaner(text):\n",
    "    soup = BeautifulSoup(text, 'lxml')\n",
    "    souped = soup.get_text()\n",
    "    stripped = re.sub(combined_pat, '', souped)\n",
    "    try:\n",
    "        clean = stripped.decode(\"utf-8-sig\").replace(u\"\\ufffd\", \"?\")\n",
    "    except:\n",
    "        clean = stripped\n",
    "    letters_only = re.sub(\"[^a-zA-Z]\", \" \", clean)\n",
    "    lower_case = letters_only.lower()\n",
    "    # During the letters_only process two lines above, it has created unnecessay white spaces,\n",
    "    # I will tokenize and join together to remove unneccessary white spaces\n",
    "    words = tok.tokenize(lower_case)\n",
    "    return (\" \".join(words)).strip()\n",
    "testing = df.Text\n",
    "test_result = []\n",
    "for t in testing:\n",
    "    test_result.append(tweet_cleaner(t))\n",
    "\n",
    "df['Text_Clean'] = test_result\n",
    "df.head()"
   ]
  },
  {
   "cell_type": "markdown",
   "metadata": {},
   "source": [
    "Calculate Polarity for each tweet"
   ]
  },
  {
   "cell_type": "code",
   "execution_count": 13,
   "metadata": {},
   "outputs": [
    {
     "data": {
      "text/html": [
       "<div>\n",
       "<style>\n",
       "    .dataframe thead tr:only-child th {\n",
       "        text-align: right;\n",
       "    }\n",
       "\n",
       "    .dataframe thead th {\n",
       "        text-align: left;\n",
       "    }\n",
       "\n",
       "    .dataframe tbody tr th {\n",
       "        vertical-align: top;\n",
       "    }\n",
       "</style>\n",
       "<table border=\"1\" class=\"dataframe\">\n",
       "  <thead>\n",
       "    <tr style=\"text-align: right;\">\n",
       "      <th></th>\n",
       "      <th>Tweet id</th>\n",
       "      <th>Text</th>\n",
       "      <th>Created_at</th>\n",
       "      <th>Scrn_User_name</th>\n",
       "      <th>User_name</th>\n",
       "      <th>RT_count</th>\n",
       "      <th>FV_count</th>\n",
       "      <th>User_location</th>\n",
       "      <th>Movie_name</th>\n",
       "      <th>Category</th>\n",
       "      <th>Tweeted_at_City</th>\n",
       "      <th>State</th>\n",
       "      <th>Text_Clean</th>\n",
       "      <th>pscore</th>\n",
       "    </tr>\n",
       "  </thead>\n",
       "  <tbody>\n",
       "    <tr>\n",
       "      <th>0</th>\n",
       "      <td>9.810000e+17</td>\n",
       "      <td>Am i hallucinating or wasn?t the second season...</td>\n",
       "      <td>4/2/2018 2:15</td>\n",
       "      <td>erinn_omalley</td>\n",
       "      <td>ërïn ??</td>\n",
       "      <td>0</td>\n",
       "      <td>0</td>\n",
       "      <td>NaN</td>\n",
       "      <td>13 Reasons Why</td>\n",
       "      <td>Drama</td>\n",
       "      <td>Wisconsin</td>\n",
       "      <td>Wisconsin</td>\n",
       "      <td>am i hallucinating or wasn t the second season...</td>\n",
       "      <td>2.0</td>\n",
       "    </tr>\n",
       "    <tr>\n",
       "      <th>1</th>\n",
       "      <td>9.750000e+17</td>\n",
       "      <td>Don?t know why it?s taken me so long to watch ...</td>\n",
       "      <td>3/16/2018 23:59</td>\n",
       "      <td>TheRealTrissyJ</td>\n",
       "      <td>Tristan</td>\n",
       "      <td>0</td>\n",
       "      <td>3</td>\n",
       "      <td>Mullens, WV</td>\n",
       "      <td>13 Reasons Why</td>\n",
       "      <td>Drama</td>\n",
       "      <td>West Virginia</td>\n",
       "      <td>West Virginia</td>\n",
       "      <td>don t know why it s taken me so long to watch ...</td>\n",
       "      <td>0.0</td>\n",
       "    </tr>\n",
       "    <tr>\n",
       "      <th>2</th>\n",
       "      <td>9.840000e+17</td>\n",
       "      <td>Woah guys. I just watched this new show on Net...</td>\n",
       "      <td>4/10/2018 3:09</td>\n",
       "      <td>jfinley00</td>\n",
       "      <td>Jack Finley</td>\n",
       "      <td>1</td>\n",
       "      <td>13</td>\n",
       "      <td>NaN</td>\n",
       "      <td>13 Reasons Why</td>\n",
       "      <td>Drama</td>\n",
       "      <td>Washington</td>\n",
       "      <td>Washington</td>\n",
       "      <td>woah guys i just watched this new show on netf...</td>\n",
       "      <td>3.0</td>\n",
       "    </tr>\n",
       "    <tr>\n",
       "      <th>3</th>\n",
       "      <td>9.810000e+17</td>\n",
       "      <td>As if my depression wasn?t bad enough today, I...</td>\n",
       "      <td>4/2/2018 2:40</td>\n",
       "      <td>_lauren_albina</td>\n",
       "      <td>Lor?</td>\n",
       "      <td>0</td>\n",
       "      <td>1</td>\n",
       "      <td>NaN</td>\n",
       "      <td>13 Reasons Why</td>\n",
       "      <td>Drama</td>\n",
       "      <td>Virginia</td>\n",
       "      <td>Virginia</td>\n",
       "      <td>as if my depression wasn t bad enough today i ...</td>\n",
       "      <td>-3.0</td>\n",
       "    </tr>\n",
       "    <tr>\n",
       "      <th>4</th>\n",
       "      <td>9.840000e+17</td>\n",
       "      <td>i don?t understand what a 2nd season if 13 Rea...</td>\n",
       "      <td>4/11/2018 15:09</td>\n",
       "      <td>slmxtch</td>\n",
       "      <td>Samantha ??</td>\n",
       "      <td>0</td>\n",
       "      <td>8</td>\n",
       "      <td>the room where it happens</td>\n",
       "      <td>13 Reasons Why</td>\n",
       "      <td>Drama</td>\n",
       "      <td>Virginia</td>\n",
       "      <td>Virginia</td>\n",
       "      <td>i don t understand what a nd season if reasons...</td>\n",
       "      <td>2.0</td>\n",
       "    </tr>\n",
       "  </tbody>\n",
       "</table>\n",
       "</div>"
      ],
      "text/plain": [
       "       Tweet id                                               Text  \\\n",
       "0  9.810000e+17  Am i hallucinating or wasn?t the second season...   \n",
       "1  9.750000e+17  Don?t know why it?s taken me so long to watch ...   \n",
       "2  9.840000e+17  Woah guys. I just watched this new show on Net...   \n",
       "3  9.810000e+17  As if my depression wasn?t bad enough today, I...   \n",
       "4  9.840000e+17  i don?t understand what a 2nd season if 13 Rea...   \n",
       "\n",
       "        Created_at  Scrn_User_name    User_name  RT_count  FV_count  \\\n",
       "0    4/2/2018 2:15   erinn_omalley      ërïn ??         0         0   \n",
       "1  3/16/2018 23:59  TheRealTrissyJ      Tristan         0         3   \n",
       "2   4/10/2018 3:09       jfinley00  Jack Finley         1        13   \n",
       "3    4/2/2018 2:40  _lauren_albina         Lor?         0         1   \n",
       "4  4/11/2018 15:09         slmxtch  Samantha ??         0         8   \n",
       "\n",
       "                User_location      Movie_name Category Tweeted_at_City  \\\n",
       "0                         NaN  13 Reasons Why    Drama       Wisconsin   \n",
       "1                 Mullens, WV  13 Reasons Why    Drama   West Virginia   \n",
       "2                         NaN  13 Reasons Why    Drama      Washington   \n",
       "3                         NaN  13 Reasons Why    Drama        Virginia   \n",
       "4  the room where it happens   13 Reasons Why    Drama        Virginia   \n",
       "\n",
       "           State                                         Text_Clean  pscore  \n",
       "0      Wisconsin  am i hallucinating or wasn t the second season...     2.0  \n",
       "1  West Virginia  don t know why it s taken me so long to watch ...     0.0  \n",
       "2     Washington  woah guys i just watched this new show on netf...     3.0  \n",
       "3       Virginia  as if my depression wasn t bad enough today i ...    -3.0  \n",
       "4       Virginia  i don t understand what a nd season if reasons...     2.0  "
      ]
     },
     "execution_count": 13,
     "metadata": {},
     "output_type": "execute_result"
    }
   ],
   "source": [
    "#Calculate and add polarity score\n",
    "pscore = []\n",
    "state = []\n",
    "\n",
    "for text in df['Text_Clean']:\n",
    "    pscore.append(afinn.score(text))\n",
    "        \n",
    "df['pscore'] = pscore\n",
    "\n",
    "df.head()"
   ]
  },
  {
   "cell_type": "markdown",
   "metadata": {},
   "source": [
    "Abbreviate the state names to a 2 letter character for consistency and add the state value in the new column 'State_new'"
   ]
  },
  {
   "cell_type": "code",
   "execution_count": 14,
   "metadata": {},
   "outputs": [
    {
     "data": {
      "text/html": [
       "<div>\n",
       "<style>\n",
       "    .dataframe thead tr:only-child th {\n",
       "        text-align: right;\n",
       "    }\n",
       "\n",
       "    .dataframe thead th {\n",
       "        text-align: left;\n",
       "    }\n",
       "\n",
       "    .dataframe tbody tr th {\n",
       "        vertical-align: top;\n",
       "    }\n",
       "</style>\n",
       "<table border=\"1\" class=\"dataframe\">\n",
       "  <thead>\n",
       "    <tr style=\"text-align: right;\">\n",
       "      <th></th>\n",
       "      <th>Tweet id</th>\n",
       "      <th>Text</th>\n",
       "      <th>Created_at</th>\n",
       "      <th>Scrn_User_name</th>\n",
       "      <th>User_name</th>\n",
       "      <th>RT_count</th>\n",
       "      <th>FV_count</th>\n",
       "      <th>User_location</th>\n",
       "      <th>Movie_name</th>\n",
       "      <th>Category</th>\n",
       "      <th>Tweeted_at_City</th>\n",
       "      <th>State</th>\n",
       "      <th>Text_Clean</th>\n",
       "      <th>pscore</th>\n",
       "      <th>State_New</th>\n",
       "    </tr>\n",
       "  </thead>\n",
       "  <tbody>\n",
       "    <tr>\n",
       "      <th>0</th>\n",
       "      <td>9.810000e+17</td>\n",
       "      <td>Am i hallucinating or wasn?t the second season...</td>\n",
       "      <td>4/2/2018 2:15</td>\n",
       "      <td>erinn_omalley</td>\n",
       "      <td>ërïn ??</td>\n",
       "      <td>0</td>\n",
       "      <td>0</td>\n",
       "      <td>NaN</td>\n",
       "      <td>13 Reasons Why</td>\n",
       "      <td>Drama</td>\n",
       "      <td>Wisconsin</td>\n",
       "      <td>Wisconsin</td>\n",
       "      <td>am i hallucinating or wasn t the second season...</td>\n",
       "      <td>2.0</td>\n",
       "      <td>WI</td>\n",
       "    </tr>\n",
       "    <tr>\n",
       "      <th>1</th>\n",
       "      <td>9.750000e+17</td>\n",
       "      <td>Don?t know why it?s taken me so long to watch ...</td>\n",
       "      <td>3/16/2018 23:59</td>\n",
       "      <td>TheRealTrissyJ</td>\n",
       "      <td>Tristan</td>\n",
       "      <td>0</td>\n",
       "      <td>3</td>\n",
       "      <td>Mullens, WV</td>\n",
       "      <td>13 Reasons Why</td>\n",
       "      <td>Drama</td>\n",
       "      <td>West Virginia</td>\n",
       "      <td>West Virginia</td>\n",
       "      <td>don t know why it s taken me so long to watch ...</td>\n",
       "      <td>0.0</td>\n",
       "      <td>WV</td>\n",
       "    </tr>\n",
       "    <tr>\n",
       "      <th>2</th>\n",
       "      <td>9.840000e+17</td>\n",
       "      <td>Woah guys. I just watched this new show on Net...</td>\n",
       "      <td>4/10/2018 3:09</td>\n",
       "      <td>jfinley00</td>\n",
       "      <td>Jack Finley</td>\n",
       "      <td>1</td>\n",
       "      <td>13</td>\n",
       "      <td>NaN</td>\n",
       "      <td>13 Reasons Why</td>\n",
       "      <td>Drama</td>\n",
       "      <td>Washington</td>\n",
       "      <td>Washington</td>\n",
       "      <td>woah guys i just watched this new show on netf...</td>\n",
       "      <td>3.0</td>\n",
       "      <td>WA</td>\n",
       "    </tr>\n",
       "    <tr>\n",
       "      <th>3</th>\n",
       "      <td>9.810000e+17</td>\n",
       "      <td>As if my depression wasn?t bad enough today, I...</td>\n",
       "      <td>4/2/2018 2:40</td>\n",
       "      <td>_lauren_albina</td>\n",
       "      <td>Lor?</td>\n",
       "      <td>0</td>\n",
       "      <td>1</td>\n",
       "      <td>NaN</td>\n",
       "      <td>13 Reasons Why</td>\n",
       "      <td>Drama</td>\n",
       "      <td>Virginia</td>\n",
       "      <td>Virginia</td>\n",
       "      <td>as if my depression wasn t bad enough today i ...</td>\n",
       "      <td>-3.0</td>\n",
       "      <td>VA</td>\n",
       "    </tr>\n",
       "    <tr>\n",
       "      <th>4</th>\n",
       "      <td>9.840000e+17</td>\n",
       "      <td>i don?t understand what a 2nd season if 13 Rea...</td>\n",
       "      <td>4/11/2018 15:09</td>\n",
       "      <td>slmxtch</td>\n",
       "      <td>Samantha ??</td>\n",
       "      <td>0</td>\n",
       "      <td>8</td>\n",
       "      <td>the room where it happens</td>\n",
       "      <td>13 Reasons Why</td>\n",
       "      <td>Drama</td>\n",
       "      <td>Virginia</td>\n",
       "      <td>Virginia</td>\n",
       "      <td>i don t understand what a nd season if reasons...</td>\n",
       "      <td>2.0</td>\n",
       "      <td>VA</td>\n",
       "    </tr>\n",
       "  </tbody>\n",
       "</table>\n",
       "</div>"
      ],
      "text/plain": [
       "       Tweet id                                               Text  \\\n",
       "0  9.810000e+17  Am i hallucinating or wasn?t the second season...   \n",
       "1  9.750000e+17  Don?t know why it?s taken me so long to watch ...   \n",
       "2  9.840000e+17  Woah guys. I just watched this new show on Net...   \n",
       "3  9.810000e+17  As if my depression wasn?t bad enough today, I...   \n",
       "4  9.840000e+17  i don?t understand what a 2nd season if 13 Rea...   \n",
       "\n",
       "        Created_at  Scrn_User_name    User_name  RT_count  FV_count  \\\n",
       "0    4/2/2018 2:15   erinn_omalley      ërïn ??         0         0   \n",
       "1  3/16/2018 23:59  TheRealTrissyJ      Tristan         0         3   \n",
       "2   4/10/2018 3:09       jfinley00  Jack Finley         1        13   \n",
       "3    4/2/2018 2:40  _lauren_albina         Lor?         0         1   \n",
       "4  4/11/2018 15:09         slmxtch  Samantha ??         0         8   \n",
       "\n",
       "                User_location      Movie_name Category Tweeted_at_City  \\\n",
       "0                         NaN  13 Reasons Why    Drama       Wisconsin   \n",
       "1                 Mullens, WV  13 Reasons Why    Drama   West Virginia   \n",
       "2                         NaN  13 Reasons Why    Drama      Washington   \n",
       "3                         NaN  13 Reasons Why    Drama        Virginia   \n",
       "4  the room where it happens   13 Reasons Why    Drama        Virginia   \n",
       "\n",
       "           State                                         Text_Clean  pscore  \\\n",
       "0      Wisconsin  am i hallucinating or wasn t the second season...     2.0   \n",
       "1  West Virginia  don t know why it s taken me so long to watch ...     0.0   \n",
       "2     Washington  woah guys i just watched this new show on netf...     3.0   \n",
       "3       Virginia  as if my depression wasn t bad enough today i ...    -3.0   \n",
       "4       Virginia  i don t understand what a nd season if reasons...     2.0   \n",
       "\n",
       "  State_New  \n",
       "0        WI  \n",
       "1        WV  \n",
       "2        WA  \n",
       "3        VA  \n",
       "4        VA  "
      ]
     },
     "execution_count": 14,
     "metadata": {},
     "output_type": "execute_result"
    }
   ],
   "source": [
    "statesdict = {\n",
    "        'AK': 'Alaska', 'AL': 'Alabama', 'AR': 'Arkansas', 'AS': 'American Samoa', 'AZ': 'Arizona', 'CA': 'California',\n",
    "        'CO': 'Colorado', 'CT': 'Connecticut', 'DC': 'District of Columbia', 'DE': 'Delaware', 'FL': 'Florida','GA': 'Georgia',\n",
    "        'GU': 'Guam', 'HI': 'Hawaii', 'IA': 'Iowa', 'ID': 'Idaho', 'IL': 'Illinois', 'IN': 'Indiana', 'KS': 'Kansas',\n",
    "        'KY': 'Kentucky', 'LA': 'Louisiana', 'MA': 'Massachusetts', 'MD': 'Maryland', 'ME': 'Maine', 'MI': 'Michigan',\n",
    "        'MN': 'Minnesota', 'MO': 'Missouri', 'MP': 'Northern Mariana Islands', 'MS': 'Mississippi', 'MT': 'Montana',\n",
    "        'NA': 'National', 'NC': 'North Carolina', 'ND': 'North Dakota', 'NE': 'Nebraska', 'NH': 'New Hampshire',\n",
    "        'NJ': 'New Jersey', 'NM': 'New Mexico', 'NV': 'Nevada', 'NY': 'New York', 'OH': 'Ohio', 'OK': 'Oklahoma',\n",
    "        'OR': 'Oregon', 'PA': 'Pennsylvania', 'PR': 'Puerto Rico', 'RI': 'Rhode Island', 'SC': 'South Carolina',\n",
    "        'SD': 'South Dakota', 'TN': 'Tennessee', 'TX': 'Texas', 'UT': 'Utah', 'VA': 'Virginia', 'VI': 'Virgin Islands',\n",
    "        'VT': 'Vermont', 'WA': 'Washington', 'WI': 'Wisconsin', 'WV': 'West Virginia', 'WY': 'Wyoming'\n",
    "             }\n",
    "\n",
    "newst = []\n",
    "for st in df.State.values:\n",
    "    st = str.strip(st)\n",
    "    new = st\n",
    "    for key, value in statesdict.items():\n",
    "        if st == value:\n",
    "            new = key\n",
    "            break\n",
    "    newst.append(new)\n",
    "    \n",
    "df['State_New'] = newst\n",
    "df.head()"
   ]
  },
  {
   "cell_type": "markdown",
   "metadata": {},
   "source": [
    "Add new column 'Region' based on the state value"
   ]
  },
  {
   "cell_type": "code",
   "execution_count": 15,
   "metadata": {},
   "outputs": [
    {
     "data": {
      "text/html": [
       "<div>\n",
       "<style>\n",
       "    .dataframe thead tr:only-child th {\n",
       "        text-align: right;\n",
       "    }\n",
       "\n",
       "    .dataframe thead th {\n",
       "        text-align: left;\n",
       "    }\n",
       "\n",
       "    .dataframe tbody tr th {\n",
       "        vertical-align: top;\n",
       "    }\n",
       "</style>\n",
       "<table border=\"1\" class=\"dataframe\">\n",
       "  <thead>\n",
       "    <tr style=\"text-align: right;\">\n",
       "      <th></th>\n",
       "      <th>Tweet id</th>\n",
       "      <th>Text</th>\n",
       "      <th>Created_at</th>\n",
       "      <th>Scrn_User_name</th>\n",
       "      <th>User_name</th>\n",
       "      <th>RT_count</th>\n",
       "      <th>FV_count</th>\n",
       "      <th>User_location</th>\n",
       "      <th>Movie_name</th>\n",
       "      <th>Category</th>\n",
       "      <th>Tweeted_at_City</th>\n",
       "      <th>State</th>\n",
       "      <th>Text_Clean</th>\n",
       "      <th>pscore</th>\n",
       "      <th>State_New</th>\n",
       "      <th>Region</th>\n",
       "    </tr>\n",
       "  </thead>\n",
       "  <tbody>\n",
       "    <tr>\n",
       "      <th>0</th>\n",
       "      <td>9.810000e+17</td>\n",
       "      <td>Am i hallucinating or wasn?t the second season...</td>\n",
       "      <td>4/2/2018 2:15</td>\n",
       "      <td>erinn_omalley</td>\n",
       "      <td>ërïn ??</td>\n",
       "      <td>0</td>\n",
       "      <td>0</td>\n",
       "      <td>NaN</td>\n",
       "      <td>13 Reasons Why</td>\n",
       "      <td>Drama</td>\n",
       "      <td>Wisconsin</td>\n",
       "      <td>Wisconsin</td>\n",
       "      <td>am i hallucinating or wasn t the second season...</td>\n",
       "      <td>2.0</td>\n",
       "      <td>WI</td>\n",
       "      <td>Midwest</td>\n",
       "    </tr>\n",
       "    <tr>\n",
       "      <th>1</th>\n",
       "      <td>9.750000e+17</td>\n",
       "      <td>Don?t know why it?s taken me so long to watch ...</td>\n",
       "      <td>3/16/2018 23:59</td>\n",
       "      <td>TheRealTrissyJ</td>\n",
       "      <td>Tristan</td>\n",
       "      <td>0</td>\n",
       "      <td>3</td>\n",
       "      <td>Mullens, WV</td>\n",
       "      <td>13 Reasons Why</td>\n",
       "      <td>Drama</td>\n",
       "      <td>West Virginia</td>\n",
       "      <td>West Virginia</td>\n",
       "      <td>don t know why it s taken me so long to watch ...</td>\n",
       "      <td>0.0</td>\n",
       "      <td>WV</td>\n",
       "      <td>South</td>\n",
       "    </tr>\n",
       "    <tr>\n",
       "      <th>2</th>\n",
       "      <td>9.840000e+17</td>\n",
       "      <td>Woah guys. I just watched this new show on Net...</td>\n",
       "      <td>4/10/2018 3:09</td>\n",
       "      <td>jfinley00</td>\n",
       "      <td>Jack Finley</td>\n",
       "      <td>1</td>\n",
       "      <td>13</td>\n",
       "      <td>NaN</td>\n",
       "      <td>13 Reasons Why</td>\n",
       "      <td>Drama</td>\n",
       "      <td>Washington</td>\n",
       "      <td>Washington</td>\n",
       "      <td>woah guys i just watched this new show on netf...</td>\n",
       "      <td>3.0</td>\n",
       "      <td>WA</td>\n",
       "      <td>West</td>\n",
       "    </tr>\n",
       "    <tr>\n",
       "      <th>3</th>\n",
       "      <td>9.810000e+17</td>\n",
       "      <td>As if my depression wasn?t bad enough today, I...</td>\n",
       "      <td>4/2/2018 2:40</td>\n",
       "      <td>_lauren_albina</td>\n",
       "      <td>Lor?</td>\n",
       "      <td>0</td>\n",
       "      <td>1</td>\n",
       "      <td>NaN</td>\n",
       "      <td>13 Reasons Why</td>\n",
       "      <td>Drama</td>\n",
       "      <td>Virginia</td>\n",
       "      <td>Virginia</td>\n",
       "      <td>as if my depression wasn t bad enough today i ...</td>\n",
       "      <td>-3.0</td>\n",
       "      <td>VA</td>\n",
       "      <td>South</td>\n",
       "    </tr>\n",
       "    <tr>\n",
       "      <th>4</th>\n",
       "      <td>9.840000e+17</td>\n",
       "      <td>i don?t understand what a 2nd season if 13 Rea...</td>\n",
       "      <td>4/11/2018 15:09</td>\n",
       "      <td>slmxtch</td>\n",
       "      <td>Samantha ??</td>\n",
       "      <td>0</td>\n",
       "      <td>8</td>\n",
       "      <td>the room where it happens</td>\n",
       "      <td>13 Reasons Why</td>\n",
       "      <td>Drama</td>\n",
       "      <td>Virginia</td>\n",
       "      <td>Virginia</td>\n",
       "      <td>i don t understand what a nd season if reasons...</td>\n",
       "      <td>2.0</td>\n",
       "      <td>VA</td>\n",
       "      <td>South</td>\n",
       "    </tr>\n",
       "  </tbody>\n",
       "</table>\n",
       "</div>"
      ],
      "text/plain": [
       "       Tweet id                                               Text  \\\n",
       "0  9.810000e+17  Am i hallucinating or wasn?t the second season...   \n",
       "1  9.750000e+17  Don?t know why it?s taken me so long to watch ...   \n",
       "2  9.840000e+17  Woah guys. I just watched this new show on Net...   \n",
       "3  9.810000e+17  As if my depression wasn?t bad enough today, I...   \n",
       "4  9.840000e+17  i don?t understand what a 2nd season if 13 Rea...   \n",
       "\n",
       "        Created_at  Scrn_User_name    User_name  RT_count  FV_count  \\\n",
       "0    4/2/2018 2:15   erinn_omalley      ërïn ??         0         0   \n",
       "1  3/16/2018 23:59  TheRealTrissyJ      Tristan         0         3   \n",
       "2   4/10/2018 3:09       jfinley00  Jack Finley         1        13   \n",
       "3    4/2/2018 2:40  _lauren_albina         Lor?         0         1   \n",
       "4  4/11/2018 15:09         slmxtch  Samantha ??         0         8   \n",
       "\n",
       "                User_location      Movie_name Category Tweeted_at_City  \\\n",
       "0                         NaN  13 Reasons Why    Drama       Wisconsin   \n",
       "1                 Mullens, WV  13 Reasons Why    Drama   West Virginia   \n",
       "2                         NaN  13 Reasons Why    Drama      Washington   \n",
       "3                         NaN  13 Reasons Why    Drama        Virginia   \n",
       "4  the room where it happens   13 Reasons Why    Drama        Virginia   \n",
       "\n",
       "           State                                         Text_Clean  pscore  \\\n",
       "0      Wisconsin  am i hallucinating or wasn t the second season...     2.0   \n",
       "1  West Virginia  don t know why it s taken me so long to watch ...     0.0   \n",
       "2     Washington  woah guys i just watched this new show on netf...     3.0   \n",
       "3       Virginia  as if my depression wasn t bad enough today i ...    -3.0   \n",
       "4       Virginia  i don t understand what a nd season if reasons...     2.0   \n",
       "\n",
       "  State_New   Region  \n",
       "0        WI  Midwest  \n",
       "1        WV    South  \n",
       "2        WA     West  \n",
       "3        VA    South  \n",
       "4        VA    South  "
      ]
     },
     "execution_count": 15,
     "metadata": {},
     "output_type": "execute_result"
    }
   ],
   "source": [
    "regiondict = {'AK': 'West', 'AL': 'South', 'AR': 'South', 'AZ': 'West', 'CA': 'West', 'CO': 'West', 'CT': 'Northeast',\n",
    "        'DC': 'South', 'DE': 'South', 'FL': 'South', 'GA': 'South', 'HI': 'West', 'IA': 'Midwest', 'ID': 'West',\n",
    "        'IL': 'Midwest', 'IN': 'Midwest', 'KS': 'Midwest', 'KY': 'South', 'LA': 'South', 'MA': 'Northeast', 'MD': 'South',\n",
    "        'ME': 'Northeast', 'MI': 'Midwest', 'MN': 'Midwest', 'MO': 'Midwest', 'MS': 'South', 'MT': 'West', 'NC': 'South',\n",
    "        'ND': 'Midwest', 'NE': 'Midwest', 'NH': 'Northeast', 'NJ': 'Northeast', 'NM': 'West', 'NV': 'West', 'NY': 'Northeast',\n",
    "        'OH': 'East', 'OK': 'South', 'OR': 'West', 'PA': 'Northeast', 'RI': 'Northeast', 'SC': 'South', 'SD': 'Midwest',\n",
    "        'TN': 'South', 'TX': 'South', 'UT': 'West', 'VA': 'South', 'VT': 'Northeast', 'WA': 'West', 'WI': 'Midwest',\n",
    "        'WV': 'South', 'WY': 'West'\n",
    "             }\n",
    "\n",
    "region = []\n",
    "for st in df.State_New.values:\n",
    "    st = str.strip(st)\n",
    "    for key, value in regiondict.items():\n",
    "        if st == key:\n",
    "            break\n",
    "    region.append(value)\n",
    "    \n",
    "df['Region'] = region\n",
    "df.head()"
   ]
  },
  {
   "cell_type": "markdown",
   "metadata": {},
   "source": [
    "Export the final dataframe with polarity score and region into a csv file 'netflixtweet_out.csv'"
   ]
  },
  {
   "cell_type": "code",
   "execution_count": 16,
   "metadata": {
    "collapsed": true
   },
   "outputs": [],
   "source": [
    "df.to_csv('netflixtweet_out.csv')"
   ]
  },
  {
   "cell_type": "markdown",
   "metadata": {},
   "source": [
    "Apply different grouping using pandas to check the cout of tweets, polarity scores by region, category and series"
   ]
  },
  {
   "cell_type": "code",
   "execution_count": 17,
   "metadata": {},
   "outputs": [
    {
     "data": {
      "text/plain": [
       "Category  Movie_name                    \n",
       "Action    Dare devil                        158\n",
       "          Gotham                            171\n",
       "          Jessica Jones                     292\n",
       "          Supernatural                      192\n",
       "          The Walking_dd                    259\n",
       "Comedy    Dis Jointed                        63\n",
       "          Grace and Frankie                  38\n",
       "          One Day at a Time                  68\n",
       "          everything_suks                   156\n",
       "          glow                              117\n",
       "Docu      Dty_Money                          71\n",
       "          Girls Incarcerated                115\n",
       "          Shot In The Dark                   18\n",
       "          Ugly_Delicious                     88\n",
       "          Wild Wild Country                 420\n",
       "Drama     13 Reasons Why                    247\n",
       "          A Series of Unfortunate Events    853\n",
       "          Altered Carbon                    145\n",
       "          Seven Seconds                     535\n",
       "          Stranger Things                   478\n",
       "Name: Movie_name, dtype: int64"
      ]
     },
     "execution_count": 17,
     "metadata": {},
     "output_type": "execute_result"
    }
   ],
   "source": [
    "#Tweent count by category and series\n",
    "df.groupby([\"Category\", \"Movie_name\"]).Movie_name.count()"
   ]
  },
  {
   "cell_type": "code",
   "execution_count": 18,
   "metadata": {},
   "outputs": [
    {
     "data": {
      "text/plain": [
       "Region\n",
       "East         0.633333\n",
       "Midwest      0.806122\n",
       "Northeast    0.866584\n",
       "South        0.743222\n",
       "West         0.739417\n",
       "Name: pscore, dtype: float64"
      ]
     },
     "execution_count": 18,
     "metadata": {},
     "output_type": "execute_result"
    }
   ],
   "source": [
    "#Polarity by Region\n",
    "df.groupby(['Region']).pscore.mean()"
   ]
  },
  {
   "cell_type": "code",
   "execution_count": 19,
   "metadata": {},
   "outputs": [
    {
     "data": {
      "text/plain": [
       "Category\n",
       "Action    1.139925\n",
       "Comedy    1.323529\n",
       "Docu      0.775281\n",
       "Drama     0.482285\n",
       "Name: pscore, dtype: float64"
      ]
     },
     "execution_count": 19,
     "metadata": {},
     "output_type": "execute_result"
    }
   ],
   "source": [
    "#Polarity score by Category\n",
    "df.groupby(['Category']).pscore.mean()"
   ]
  },
  {
   "cell_type": "code",
   "execution_count": 20,
   "metadata": {
    "scrolled": true
   },
   "outputs": [
    {
     "data": {
      "text/plain": [
       "Region     Category\n",
       "East       Action      0.457143\n",
       "           Comedy      1.083333\n",
       "           Docu        0.705882\n",
       "           Drama       0.627907\n",
       "Midwest    Action      1.007143\n",
       "           Comedy      0.490909\n",
       "           Docu        1.030000\n",
       "           Drama       0.692833\n",
       "Northeast  Action      1.275304\n",
       "           Comedy      1.254902\n",
       "           Docu        0.567797\n",
       "           Drama       0.552239\n",
       "South      Action      1.159314\n",
       "           Comedy      1.248588\n",
       "           Docu        0.987805\n",
       "           Drama       0.439048\n",
       "West       Action      1.144628\n",
       "           Comedy      2.041667\n",
       "           Docu        0.549784\n",
       "           Drama       0.376518\n",
       "Name: pscore, dtype: float64"
      ]
     },
     "execution_count": 20,
     "metadata": {},
     "output_type": "execute_result"
    }
   ],
   "source": [
    "#Polarity score by Region and Category\n",
    "df.groupby(['Region', 'Category']).pscore.mean()"
   ]
  },
  {
   "cell_type": "code",
   "execution_count": 21,
   "metadata": {},
   "outputs": [
    {
     "data": {
      "text/plain": [
       "Movie_name\n",
       "13 Reasons Why                    0.178138\n",
       "A Series of Unfortunate Events    0.534584\n",
       "Altered Carbon                    0.855172\n",
       "Dare devil                        1.645570\n",
       "Dis Jointed                       1.000000\n",
       "Dty_Money                         0.647887\n",
       "Girls Incarcerated                0.965217\n",
       "Gotham                            1.467836\n",
       "Grace and Frankie                 2.000000\n",
       "Jessica Jones                     1.232877\n",
       "One Day at a Time                 2.102941\n",
       "Seven Seconds                     0.465421\n",
       "Shot In The Dark                  1.388889\n",
       "Stranger Things                   0.451883\n",
       "Supernatural                      1.270833\n",
       "The Walking_dd                    0.413127\n",
       "Ugly_Delicious                    1.465909\n",
       "Wild Wild Country                 0.573810\n",
       "everything_suks                   1.064103\n",
       "glow                              1.170940\n",
       "Name: pscore, dtype: float64"
      ]
     },
     "execution_count": 21,
     "metadata": {},
     "output_type": "execute_result"
    }
   ],
   "source": [
    "#Polarity by series\n",
    "df.groupby(['Movie_name']).pscore.mean()"
   ]
  },
  {
   "cell_type": "markdown",
   "metadata": {},
   "source": [
    "### Network Analysis"
   ]
  },
  {
   "cell_type": "markdown",
   "metadata": {},
   "source": [
    "We pick one series from each category to find the network. The users relationship is already extracted and avaialble in the csv file. Here we use the csv file to generate graphml file and upload it into Gelphi to calculate network measures such as degree, closeness & betweeness centrality"
   ]
  },
  {
   "cell_type": "code",
   "execution_count": 22,
   "metadata": {
    "collapsed": true
   },
   "outputs": [],
   "source": [
    "import networkx as nx\n",
    "import pandas as pd\n",
    "%matplotlib inline\n",
    "import matplotlib.pyplot as plt"
   ]
  },
  {
   "cell_type": "markdown",
   "metadata": {},
   "source": [
    "#### Glow Series"
   ]
  },
  {
   "cell_type": "code",
   "execution_count": 23,
   "metadata": {},
   "outputs": [
    {
     "data": {
      "text/plain": [
       "[('Khyrughh', '_Retro_Kai_'),\n",
       " ('ellavosmusic', 'KayJulia7'),\n",
       " ('ellavosmusic', 'menamonkey'),\n",
       " ('ellavosmusic', 'torpal11'),\n",
       " ('ellavosmusic', '_anthonymejia_')]"
      ]
     },
     "execution_count": 23,
     "metadata": {},
     "output_type": "execute_result"
    }
   ],
   "source": [
    "glow = pd.read_csv('Glow Network Data.csv')\n",
    "glow_edges = list(zip(*[glow[c].values.tolist() for c in glow]))\n",
    "glow_edges[:5]"
   ]
  },
  {
   "cell_type": "code",
   "execution_count": 24,
   "metadata": {},
   "outputs": [
    {
     "name": "stderr",
     "output_type": "stream",
     "text": [
      "C:\\Users\\Devi\\Anaconda3\\lib\\site-packages\\networkx\\drawing\\nx_pylab.py:126: MatplotlibDeprecationWarning: pyplot.hold is deprecated.\n",
      "    Future behavior will be consistent with the long-time default:\n",
      "    plot commands add elements without first clearing the\n",
      "    Axes and/or Figure.\n",
      "  b = plt.ishold()\n",
      "C:\\Users\\Devi\\Anaconda3\\lib\\site-packages\\networkx\\drawing\\nx_pylab.py:138: MatplotlibDeprecationWarning: pyplot.hold is deprecated.\n",
      "    Future behavior will be consistent with the long-time default:\n",
      "    plot commands add elements without first clearing the\n",
      "    Axes and/or Figure.\n",
      "  plt.hold(b)\n",
      "C:\\Users\\Devi\\Anaconda3\\lib\\site-packages\\matplotlib\\__init__.py:917: UserWarning: axes.hold is deprecated. Please remove it from your matplotlibrc and/or style files.\n",
      "  warnings.warn(self.msg_depr_set % key)\n",
      "C:\\Users\\Devi\\Anaconda3\\lib\\site-packages\\matplotlib\\rcsetup.py:152: UserWarning: axes.hold is deprecated, will be removed in 3.0\n",
      "  warnings.warn(\"axes.hold is deprecated, will be removed in 3.0\")\n"
     ]
    },
    {
     "data": {
      "image/png": "[encoded data removed]",
      "text/plain": [
       "<matplotlib.figure.Figure at 0x14e15ee8240>"
      ]
     },
     "metadata": {},
     "output_type": "display_data"
    }
   ],
   "source": [
    "G = nx.Graph()\n",
    "G.add_edges_from(glow_edges)\n",
    "nx.draw(G)\n",
    "plt.show()"
   ]
  },
  {
   "cell_type": "code",
   "execution_count": 25,
   "metadata": {
    "collapsed": true
   },
   "outputs": [],
   "source": [
    "#save and export the network for further analysis in Gephi tool\n",
    "nx.write_graphml(G,\"glow.graphml\")"
   ]
  },
  {
   "cell_type": "markdown",
   "metadata": {},
   "source": [
    "#### Wild Wild Country Series"
   ]
  },
  {
   "cell_type": "code",
   "execution_count": 26,
   "metadata": {},
   "outputs": [
    {
     "data": {
      "text/plain": [
       "[('RoseMinutaglio', 'bminutaglio'),\n",
       " ('RoseMinutaglio', 'sarmchugh'),\n",
       " ('RoseMinutaglio', 'justinkirkland4'),\n",
       " ('RoseMinutaglio', 'esquire'),\n",
       " ('SpanishKibosh', 'esquire')]"
      ]
     },
     "execution_count": 26,
     "metadata": {},
     "output_type": "execute_result"
    }
   ],
   "source": [
    "wildcountry = pd.read_csv('WildWild Country Network Data.csv')\n",
    "wildcountry_edges = list(zip(*[wildcountry[c].values.tolist() for c in wildcountry]))\n",
    "wildcountry_edges[:5]"
   ]
  },
  {
   "cell_type": "code",
   "execution_count": 27,
   "metadata": {},
   "outputs": [
    {
     "name": "stderr",
     "output_type": "stream",
     "text": [
      "C:\\Users\\Devi\\Anaconda3\\lib\\site-packages\\networkx\\drawing\\nx_pylab.py:126: MatplotlibDeprecationWarning: pyplot.hold is deprecated.\n",
      "    Future behavior will be consistent with the long-time default:\n",
      "    plot commands add elements without first clearing the\n",
      "    Axes and/or Figure.\n",
      "  b = plt.ishold()\n",
      "C:\\Users\\Devi\\Anaconda3\\lib\\site-packages\\networkx\\drawing\\nx_pylab.py:138: MatplotlibDeprecationWarning: pyplot.hold is deprecated.\n",
      "    Future behavior will be consistent with the long-time default:\n",
      "    plot commands add elements without first clearing the\n",
      "    Axes and/or Figure.\n",
      "  plt.hold(b)\n",
      "C:\\Users\\Devi\\Anaconda3\\lib\\site-packages\\matplotlib\\__init__.py:917: UserWarning: axes.hold is deprecated. Please remove it from your matplotlibrc and/or style files.\n",
      "  warnings.warn(self.msg_depr_set % key)\n",
      "C:\\Users\\Devi\\Anaconda3\\lib\\site-packages\\matplotlib\\rcsetup.py:152: UserWarning: axes.hold is deprecated, will be removed in 3.0\n",
      "  warnings.warn(\"axes.hold is deprecated, will be removed in 3.0\")\n"
     ]
    },
    {
     "data": {
      "image/png": "[encoded data removed]",
      "text/plain": [
       "<matplotlib.figure.Figure at 0x14e15ee8128>"
      ]
     },
     "metadata": {},
     "output_type": "display_data"
    }
   ],
   "source": [
    "G = nx.Graph()\n",
    "G.add_edges_from(wildcountry_edges)\n",
    "nx.draw(G)\n",
    "\n",
    "plt.show()"
   ]
  },
  {
   "cell_type": "code",
   "execution_count": 28,
   "metadata": {
    "collapsed": true
   },
   "outputs": [],
   "source": [
    "#save and export the network for further analysis in Gephi tool\n",
    "nx.write_graphml(G,\"WildWildCountry.graphml\")"
   ]
  },
  {
   "cell_type": "markdown",
   "metadata": {},
   "source": [
    "#### The Waking Dead Series"
   ]
  },
  {
   "cell_type": "code",
   "execution_count": 29,
   "metadata": {},
   "outputs": [
    {
     "data": {
      "text/plain": [
       "[('sheltondesigner', 'arthurdailey78'),\n",
       " ('sheltondesigner', 'LarryMarvin1'),\n",
       " ('sheltondesigner', 'sfmpetersen'),\n",
       " ('arthurdailey78', 'sfmpetersen'),\n",
       " ('Aoiferocksitout', 'Dazza70Smith')]"
      ]
     },
     "execution_count": 29,
     "metadata": {},
     "output_type": "execute_result"
    }
   ],
   "source": [
    "TheWalkingDead = pd.read_csv('TheWalkingDead Network Data.csv')\n",
    "TheWalkingDead_edges = list(zip(*[TheWalkingDead[c].values.tolist() for c in TheWalkingDead]))\n",
    "TheWalkingDead_edges[:5]"
   ]
  },
  {
   "cell_type": "code",
   "execution_count": 30,
   "metadata": {},
   "outputs": [
    {
     "name": "stderr",
     "output_type": "stream",
     "text": [
      "C:\\Users\\Devi\\Anaconda3\\lib\\site-packages\\networkx\\drawing\\nx_pylab.py:126: MatplotlibDeprecationWarning: pyplot.hold is deprecated.\n",
      "    Future behavior will be consistent with the long-time default:\n",
      "    plot commands add elements without first clearing the\n",
      "    Axes and/or Figure.\n",
      "  b = plt.ishold()\n",
      "C:\\Users\\Devi\\Anaconda3\\lib\\site-packages\\networkx\\drawing\\nx_pylab.py:138: MatplotlibDeprecationWarning: pyplot.hold is deprecated.\n",
      "    Future behavior will be consistent with the long-time default:\n",
      "    plot commands add elements without first clearing the\n",
      "    Axes and/or Figure.\n",
      "  plt.hold(b)\n",
      "C:\\Users\\Devi\\Anaconda3\\lib\\site-packages\\matplotlib\\__init__.py:917: UserWarning: axes.hold is deprecated. Please remove it from your matplotlibrc and/or style files.\n",
      "  warnings.warn(self.msg_depr_set % key)\n",
      "C:\\Users\\Devi\\Anaconda3\\lib\\site-packages\\matplotlib\\rcsetup.py:152: UserWarning: axes.hold is deprecated, will be removed in 3.0\n",
      "  warnings.warn(\"axes.hold is deprecated, will be removed in 3.0\")\n"
     ]
    },
    {
     "data": {
      "image/png": "[encoded data removed]",
      "text/plain": [
       "<matplotlib.figure.Figure at 0x14e163c5da0>"
      ]
     },
     "metadata": {},
     "output_type": "display_data"
    }
   ],
   "source": [
    "G = nx.Graph()\n",
    "G.add_edges_from(TheWalkingDead_edges)\n",
    "nx.draw(G)\n",
    "\n",
    "plt.show()"
   ]
  },
  {
   "cell_type": "code",
   "execution_count": 31,
   "metadata": {
    "collapsed": true
   },
   "outputs": [],
   "source": [
    "#save and export the network for further analysis in Gephi tool\n",
    "nx.write_graphml(G,\"TheWalkingDead.graphml\")"
   ]
  },
  {
   "cell_type": "markdown",
   "metadata": {},
   "source": [
    "#### Stranger Things Series"
   ]
  },
  {
   "cell_type": "code",
   "execution_count": 32,
   "metadata": {},
   "outputs": [
    {
     "data": {
      "text/plain": [
       "[('ryan_bonkowski', 'childish_mel'),\n",
       " ('childish_mel', 'ryan_bonkowski'),\n",
       " ('ryan_bonkowski', 'yoitssalex'),\n",
       " ('yoitssalex', 'ryan_bonkowski'),\n",
       " ('ryan_bonkowski', 'katthekindle')]"
      ]
     },
     "execution_count": 32,
     "metadata": {},
     "output_type": "execute_result"
    }
   ],
   "source": [
    "StrangerThings = pd.read_csv('StrangerThings Network Data.csv')\n",
    "StrangerThings_edges = list(zip(*[StrangerThings[c].values.tolist() for c in StrangerThings]))\n",
    "StrangerThings_edges[:5]"
   ]
  },
  {
   "cell_type": "code",
   "execution_count": 33,
   "metadata": {},
   "outputs": [
    {
     "name": "stderr",
     "output_type": "stream",
     "text": [
      "C:\\Users\\Devi\\Anaconda3\\lib\\site-packages\\networkx\\drawing\\nx_pylab.py:126: MatplotlibDeprecationWarning: pyplot.hold is deprecated.\n",
      "    Future behavior will be consistent with the long-time default:\n",
      "    plot commands add elements without first clearing the\n",
      "    Axes and/or Figure.\n",
      "  b = plt.ishold()\n",
      "C:\\Users\\Devi\\Anaconda3\\lib\\site-packages\\networkx\\drawing\\nx_pylab.py:138: MatplotlibDeprecationWarning: pyplot.hold is deprecated.\n",
      "    Future behavior will be consistent with the long-time default:\n",
      "    plot commands add elements without first clearing the\n",
      "    Axes and/or Figure.\n",
      "  plt.hold(b)\n",
      "C:\\Users\\Devi\\Anaconda3\\lib\\site-packages\\matplotlib\\__init__.py:917: UserWarning: axes.hold is deprecated. Please remove it from your matplotlibrc and/or style files.\n",
      "  warnings.warn(self.msg_depr_set % key)\n",
      "C:\\Users\\Devi\\Anaconda3\\lib\\site-packages\\matplotlib\\rcsetup.py:152: UserWarning: axes.hold is deprecated, will be removed in 3.0\n",
      "  warnings.warn(\"axes.hold is deprecated, will be removed in 3.0\")\n"
     ]
    },
    {
     "data": {
      "image/png": "[encoded data removed]",
      "text/plain": [
       "<matplotlib.figure.Figure at 0x14e163b2ac8>"
      ]
     },
     "metadata": {},
     "output_type": "display_data"
    }
   ],
   "source": [
    "G = nx.Graph()\n",
    "G.add_edges_from(StrangerThings_edges)\n",
    "nx.draw(G)\n",
    "\n",
    "plt.show()"
   ]
  },
  {
   "cell_type": "code",
   "execution_count": 34,
   "metadata": {
    "collapsed": true
   },
   "outputs": [],
   "source": [
    "#save and export the network for further analysis in Gephi tool\n",
    "nx.write_graphml(G,\"StrangerThings.graphml\")"
   ]
  }
 ],
 "metadata": {
  "anaconda-cloud": {},
  "kernelspec": {
   "display_name": "Python 3",
   "language": "python",
   "name": "python3"
  },
  "language_info": {
   "codemirror_mode": {
    "name": "ipython",
    "version": 3
   },
   "file_extension": ".py",
   "mimetype": "text/x-python",
   "name": "python",
   "nbconvert_exporter": "python",
   "pygments_lexer": "ipython3",
   "version": "3.6.5"
  },
  "toc": {
   "nav_menu": {},
   "number_sections": true,
   "sideBar": true,
   "skip_h1_title": true,
   "title_cell": "Table of Contents",
   "title_sidebar": "Contents",
   "toc_cell": true,
   "toc_position": {},
   "toc_section_display": true,
   "toc_window_display": true
  }
 },
 "nbformat": 4,
 "nbformat_minor": 1
}
